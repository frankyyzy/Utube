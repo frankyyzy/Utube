{
 "cells": [
  {
   "cell_type": "code",
   "execution_count": 7,
   "metadata": {},
   "outputs": [],
   "source": [
    "import pandas as pd\n",
    "import json"
   ]
  },
  {
   "cell_type": "code",
   "execution_count": 71,
   "metadata": {},
   "outputs": [],
   "source": [
    "col = ['video_id', 'publish_time', 'views', 'likes', 'dislikes', 'comment_count', 'comments_disabled', 'ratings_disabled', 'video_error_or_removed']\n",
    "data_type={\"views\": int, 'likes': int, 'dislikes': int, 'comment_count': int}"
   ]
  },
  {
   "cell_type": "code",
   "execution_count": 111,
   "metadata": {},
   "outputs": [],
   "source": [
    "df_CA = pd.read_csv(\"CAvideos.csv\", index_col= 0, encoding = 'UTF-8', usecols=col, dtype = data_type)\n",
    "df_DE = pd.read_csv(\"DEvideos.csv\", index_col= 0, encoding = 'UTF-8', usecols=col, dtype = data_type)\n",
    "df_FR = pd.read_csv(\"FRvideos.csv\", index_col= 0, encoding = 'UTF-8', usecols=col, dtype = data_type)\n",
    "df_GB = pd.read_csv(\"GBvideos.csv\", index_col= 0, encoding = 'UTF-8', usecols=col, dtype = data_type)\n",
    "df_IN = pd.read_csv(\"INvideos.csv\", index_col= 0, encoding = 'UTF-8', usecols=col, dtype = data_type)\n",
    "df_JP = pd.read_csv(\"JPvideos.csv\", index_col= 0, encoding = 'UTF-8', usecols=col, dtype = data_type)\n",
    "df_KR = pd.read_csv(\"KRvideos.csv\", index_col= 0, encoding = 'UTF-8', usecols=col, dtype = data_type)\n",
    "df_MX = pd.read_csv(\"MXvideos.csv\", index_col= 0, encoding = 'UTF-8', usecols=col, dtype = data_type)\n",
    "df_RU = pd.read_csv(\"RUvideos.csv\", index_col= 0, encoding = 'UTF-8', usecols=col, dtype = data_type)\n",
    "df_US = pd.read_csv(\"USvideos.csv\", index_col= 0, encoding = 'UTF-8', usecols=col, dtype = data_type)"
   ]
  },
  {
   "cell_type": "code",
   "execution_count": 113,
   "metadata": {},
   "outputs": [],
   "source": [
    "region = ['Canada'] * df_CA.shape[0]\n",
    "df_CA['region'] = region\n",
    "region = ['Germany'] * df_DE.shape[0]\n",
    "df_DE['region'] = region\n",
    "region = ['France'] * df_FR.shape[0]\n",
    "df_FR['region'] = region\n",
    "region = ['Great Britain'] * df_GB.shape[0]\n",
    "df_GB['region'] = region\n",
    "region = ['India'] * df_IN.shape[0]\n",
    "df_IN['region'] = region\n",
    "region = ['Japan'] * df_JP.shape[0]\n",
    "df_JP['region'] = region\n",
    "region = ['South Korea'] * df_KR.shape[0]\n",
    "df_KR['region'] = region\n",
    "region = ['Mexico'] * df_MX.shape[0]\n",
    "df_MX['region'] = region\n",
    "region = ['Russia'] * df_RU.shape[0]\n",
    "df_RU['region'] = region\n",
    "region = ['United States'] * df_US.shape[0]\n",
    "df_US['region'] = region"
   ]
  },
  {
   "cell_type": "code",
   "execution_count": 114,
   "metadata": {},
   "outputs": [],
   "source": [
    "list_df = [df_CA, df_DE, df_FR, df_GB, df_IN, df_JP, df_KR, df_MX, df_RU, df_US]"
   ]
  },
  {
   "cell_type": "code",
   "execution_count": 119,
   "metadata": {},
   "outputs": [],
   "source": [
    "df_videos = df_CA\n",
    "for i in range(1, len(list_df)):\n",
    "    df_videos = df_videos.append(list_df[i], ignore_index = False)"
   ]
  },
  {
   "cell_type": "code",
   "execution_count": null,
   "metadata": {},
   "outputs": [],
   "source": [
    "df_videos.to_csv(\"Videos of All Regions.csv\", encoding='utf-8', index=True)"
   ]
  }
 ],
 "metadata": {
  "kernelspec": {
   "display_name": "Python 3",
   "language": "python",
   "name": "python3"
  },
  "language_info": {
   "codemirror_mode": {
    "name": "ipython",
    "version": 3
   },
   "file_extension": ".py",
   "mimetype": "text/x-python",
   "name": "python",
   "nbconvert_exporter": "python",
   "pygments_lexer": "ipython3",
   "version": "3.7.4"
  }
 },
 "nbformat": 4,
 "nbformat_minor": 2
}
