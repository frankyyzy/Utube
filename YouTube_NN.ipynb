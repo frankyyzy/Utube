{
 "cells": [
  {
   "cell_type": "code",
   "execution_count": 101,
   "metadata": {},
   "outputs": [],
   "source": [
    "import torch\n",
    "import torch.nn as nn\n",
    "import torch.nn.functional as F\n",
    "import torch.utils.data as dt\n",
    "import pandas as pd \n",
    "import numpy as np\n",
    "import torch.utils.data as data_utils"
   ]
  },
  {
   "cell_type": "markdown",
   "metadata": {},
   "source": [
    "# Input and Hyperparameters #"
   ]
  },
  {
   "cell_type": "code",
   "execution_count": 152,
   "metadata": {},
   "outputs": [],
   "source": [
    "data_path = \"./US_length.csv\"\n",
    "learning_rate = 0.001\n",
    "device = torch.device('cuda' if torch.cuda.is_available() else 'cpu')\n",
    "split = 0.8\n",
    "batch_size = 50\n",
    "num_epochs = 50\n",
    "subset_val = 1000"
   ]
  },
  {
   "cell_type": "markdown",
   "metadata": {},
   "source": [
    "# Data Cleaning #"
   ]
  },
  {
   "cell_type": "code",
   "execution_count": 153,
   "metadata": {},
   "outputs": [
    {
     "name": "stderr",
     "output_type": "stream",
     "text": [
      "C:\\Users\\ChuckDaddy\\Anaconda3\\lib\\site-packages\\ipykernel_launcher.py:8: SettingWithCopyWarning: \n",
      "A value is trying to be set on a copy of a slice from a DataFrame.\n",
      "Try using .loc[row_indexer,col_indexer] = value instead\n",
      "\n",
      "See the caveats in the documentation: http://pandas.pydata.org/pandas-docs/stable/indexing.html#indexing-view-versus-copy\n",
      "  \n"
     ]
    }
   ],
   "source": [
    "df_main = pd.read_csv(data_path, sep = ',')\n",
    "#subset data for testing ,use the first 10000\n",
    "df = df_main[:subset_val]\n",
    "secs = df['sec'].values\n",
    "mins = df['min'].values\n",
    "hours = df['hour'].values\n",
    "total_time = [s+60*m+3600*h for s,m,h in zip(secs, mins, hours)]\n",
    "df['total_time'] = total_time\n",
    "df_features=df[['title', 'total_time']]"
   ]
  },
  {
   "cell_type": "code",
   "execution_count": 154,
   "metadata": {},
   "outputs": [
    {
     "name": "stderr",
     "output_type": "stream",
     "text": [
      "C:\\Users\\ChuckDaddy\\Anaconda3\\lib\\site-packages\\ipykernel_launcher.py:1: SettingWithCopyWarning: \n",
      "A value is trying to be set on a copy of a slice from a DataFrame.\n",
      "Try using .loc[row_indexer,col_indexer] = value instead\n",
      "\n",
      "See the caveats in the documentation: http://pandas.pydata.org/pandas-docs/stable/indexing.html#indexing-view-versus-copy\n",
      "  \"\"\"Entry point for launching an IPython kernel.\n",
      "C:\\Users\\ChuckDaddy\\Anaconda3\\lib\\site-packages\\ipykernel_launcher.py:2: SettingWithCopyWarning: \n",
      "A value is trying to be set on a copy of a slice from a DataFrame.\n",
      "Try using .loc[row_indexer,col_indexer] = value instead\n",
      "\n",
      "See the caveats in the documentation: http://pandas.pydata.org/pandas-docs/stable/indexing.html#indexing-view-versus-copy\n",
      "  \n",
      "C:\\Users\\ChuckDaddy\\Anaconda3\\lib\\site-packages\\ipykernel_launcher.py:3: SettingWithCopyWarning: \n",
      "A value is trying to be set on a copy of a slice from a DataFrame.\n",
      "Try using .loc[row_indexer,col_indexer] = value instead\n",
      "\n",
      "See the caveats in the documentation: http://pandas.pydata.org/pandas-docs/stable/indexing.html#indexing-view-versus-copy\n",
      "  This is separate from the ipykernel package so we can avoid doing imports until\n"
     ]
    }
   ],
   "source": [
    "df_features['title_upper_count'] = df_features['title'].str.findall(r'[A-Z]').str.len()\n",
    "df_features['tag_count'] = [len(s.split('|')) for s in df['tags'].values]\n",
    "df_features['category_id'] = df_main['category_id']\n",
    "df_label = pd.DataFrame()\n",
    "df_label['views'] = df['views']\n",
    "df_features = df_features.drop(columns = 'title')"
   ]
  },
  {
   "cell_type": "code",
   "execution_count": 155,
   "metadata": {},
   "outputs": [
    {
     "data": {
      "text/html": [
       "<div>\n",
       "<style scoped>\n",
       "    .dataframe tbody tr th:only-of-type {\n",
       "        vertical-align: middle;\n",
       "    }\n",
       "\n",
       "    .dataframe tbody tr th {\n",
       "        vertical-align: top;\n",
       "    }\n",
       "\n",
       "    .dataframe thead th {\n",
       "        text-align: right;\n",
       "    }\n",
       "</style>\n",
       "<table border=\"1\" class=\"dataframe\">\n",
       "  <thead>\n",
       "    <tr style=\"text-align: right;\">\n",
       "      <th></th>\n",
       "      <th>total_time</th>\n",
       "      <th>title_upper_count</th>\n",
       "      <th>tag_count</th>\n",
       "      <th>category_id</th>\n",
       "    </tr>\n",
       "  </thead>\n",
       "  <tbody>\n",
       "    <tr>\n",
       "      <th>0</th>\n",
       "      <td>678</td>\n",
       "      <td>28</td>\n",
       "      <td>1</td>\n",
       "      <td>22</td>\n",
       "    </tr>\n",
       "    <tr>\n",
       "      <th>1</th>\n",
       "      <td>1431</td>\n",
       "      <td>11</td>\n",
       "      <td>4</td>\n",
       "      <td>24</td>\n",
       "    </tr>\n",
       "    <tr>\n",
       "      <th>2</th>\n",
       "      <td>569</td>\n",
       "      <td>8</td>\n",
       "      <td>23</td>\n",
       "      <td>23</td>\n",
       "    </tr>\n",
       "    <tr>\n",
       "      <th>3</th>\n",
       "      <td>430</td>\n",
       "      <td>4</td>\n",
       "      <td>27</td>\n",
       "      <td>24</td>\n",
       "    </tr>\n",
       "    <tr>\n",
       "      <th>4</th>\n",
       "      <td>733</td>\n",
       "      <td>12</td>\n",
       "      <td>14</td>\n",
       "      <td>24</td>\n",
       "    </tr>\n",
       "  </tbody>\n",
       "</table>\n",
       "</div>"
      ],
      "text/plain": [
       "   total_time  title_upper_count  tag_count  category_id\n",
       "0         678                 28          1           22\n",
       "1        1431                 11          4           24\n",
       "2         569                  8         23           23\n",
       "3         430                  4         27           24\n",
       "4         733                 12         14           24"
      ]
     },
     "execution_count": 155,
     "metadata": {},
     "output_type": "execute_result"
    }
   ],
   "source": [
    "df_features.head()\n"
   ]
  },
  {
   "cell_type": "code",
   "execution_count": 156,
   "metadata": {},
   "outputs": [
    {
     "data": {
      "text/html": [
       "<div>\n",
       "<style scoped>\n",
       "    .dataframe tbody tr th:only-of-type {\n",
       "        vertical-align: middle;\n",
       "    }\n",
       "\n",
       "    .dataframe tbody tr th {\n",
       "        vertical-align: top;\n",
       "    }\n",
       "\n",
       "    .dataframe thead th {\n",
       "        text-align: right;\n",
       "    }\n",
       "</style>\n",
       "<table border=\"1\" class=\"dataframe\">\n",
       "  <thead>\n",
       "    <tr style=\"text-align: right;\">\n",
       "      <th></th>\n",
       "      <th>views</th>\n",
       "    </tr>\n",
       "  </thead>\n",
       "  <tbody>\n",
       "    <tr>\n",
       "      <th>0</th>\n",
       "      <td>748374</td>\n",
       "    </tr>\n",
       "    <tr>\n",
       "      <th>1</th>\n",
       "      <td>2418783</td>\n",
       "    </tr>\n",
       "    <tr>\n",
       "      <th>2</th>\n",
       "      <td>3191434</td>\n",
       "    </tr>\n",
       "    <tr>\n",
       "      <th>3</th>\n",
       "      <td>343168</td>\n",
       "    </tr>\n",
       "    <tr>\n",
       "      <th>4</th>\n",
       "      <td>2095731</td>\n",
       "    </tr>\n",
       "  </tbody>\n",
       "</table>\n",
       "</div>"
      ],
      "text/plain": [
       "     views\n",
       "0   748374\n",
       "1  2418783\n",
       "2  3191434\n",
       "3   343168\n",
       "4  2095731"
      ]
     },
     "execution_count": 156,
     "metadata": {},
     "output_type": "execute_result"
    }
   ],
   "source": [
    "df_label.head()\n"
   ]
  },
  {
   "cell_type": "markdown",
   "metadata": {},
   "source": [
    "# Setup Dataloader #"
   ]
  },
  {
   "cell_type": "code",
   "execution_count": 157,
   "metadata": {},
   "outputs": [],
   "source": [
    "tv_split = int(len(df_features)*split)\n",
    "train_set = df_features[:tv_split]\n",
    "train_label = df_label[:tv_split]\n",
    "validation_set = df_features[tv_split:]\n",
    "validation_label = df_label[tv_split:]\n"
   ]
  },
  {
   "cell_type": "code",
   "execution_count": 158,
   "metadata": {},
   "outputs": [],
   "source": [
    "class Dataset(dt.Dataset):\n",
    "    def __init__(self, feature, labels):\n",
    "        self.labels = labels\n",
    "        self.feature = feature\n",
    "    def __len__(self):\n",
    "        return(len(self.feature))\n",
    "    def __getitem__(self, idx):\n",
    "        cur_feature = self.feature.iloc[idx]\n",
    "        cur_feature = np.array(cur_feature)\n",
    "        cur_label = self.labels.iloc[idx]\n",
    "        cur_label = np.array(cur_label)\n",
    "        sample = (cur_feature, cur_label)\n",
    "        return sample"
   ]
  },
  {
   "cell_type": "code",
   "execution_count": 159,
   "metadata": {},
   "outputs": [],
   "source": [
    "train = Dataset(train_set, train_label)\n",
    "train_loader = data_utils.DataLoader(train, batch_size, shuffle = True)\n",
    "test = Dataset(validation_set, validation_label)\n",
    "test_loader = data_utils.DataLoader(test, batch_size, shuffle = True)"
   ]
  },
  {
   "cell_type": "markdown",
   "metadata": {},
   "source": [
    "# Define Neural Network"
   ]
  },
  {
   "cell_type": "code",
   "execution_count": 160,
   "metadata": {},
   "outputs": [],
   "source": [
    "class NeuralNet(nn.Module):\n",
    "    def __init__(self, input_size, hidden_size, num_classes):\n",
    "        super().__init__()\n",
    "        self.fc1 = nn.Linear(input_size, hidden_size).double() \n",
    "        self.relu = nn.ReLU()\n",
    "        self.fc2 = nn.Linear(hidden_size, num_classes).double()\n",
    "        \n",
    "    def forward(self, x):\n",
    "        out = self.fc1(x)\n",
    "        out = self.relu(out)\n",
    "        out = self.fc2(out)\n",
    "        out = self.relu(out)\n",
    "        return out"
   ]
  },
  {
   "cell_type": "markdown",
   "metadata": {},
   "source": [
    "# Main #"
   ]
  },
  {
   "cell_type": "code",
   "execution_count": 161,
   "metadata": {
    "scrolled": true
   },
   "outputs": [
    {
     "name": "stdout",
     "output_type": "stream",
     "text": [
      "16\n"
     ]
    },
    {
     "name": "stderr",
     "output_type": "stream",
     "text": [
      "C:\\Users\\ChuckDaddy\\Anaconda3\\lib\\site-packages\\ipykernel_launcher.py:17: UserWarning: To copy construct from a tensor, it is recommended to use sourceTensor.clone().detach() or sourceTensor.clone().detach().requires_grad_(True), rather than torch.tensor(sourceTensor).\n",
      "C:\\Users\\ChuckDaddy\\Anaconda3\\lib\\site-packages\\ipykernel_launcher.py:18: UserWarning: To copy construct from a tensor, it is recommended to use sourceTensor.clone().detach() or sourceTensor.clone().detach().requires_grad_(True), rather than torch.tensor(sourceTensor).\n"
     ]
    },
    {
     "name": "stdout",
     "output_type": "stream",
     "text": [
      "16374260.457335453\n",
      "16374050.840803565\n",
      "16373845.024876758\n",
      "16373629.464946207\n",
      "16373377.94297805\n",
      "16373145.237324541\n",
      "16372880.877013382\n",
      "16372572.205949882\n",
      "16372303.949740438\n",
      "16371974.380272534\n",
      "16371639.742622696\n",
      "16371277.122486835\n",
      "16370917.688334871\n",
      "16370504.963623151\n",
      "16370099.99386009\n",
      "16369681.44328047\n",
      "16369222.231477987\n",
      "16368766.626964625\n",
      "16368269.319106346\n",
      "16367742.159902023\n",
      "16367240.558703465\n",
      "16366644.017858185\n",
      "16366093.249688055\n",
      "16365490.718819125\n",
      "16364895.782396294\n",
      "16364234.984079622\n",
      "16363607.079447798\n",
      "16362925.61543157\n",
      "16362494.853755794\n",
      "16362240.741850175\n",
      "16361954.461927796\n",
      "16361722.19298501\n",
      "16361447.729358127\n",
      "16361175.031249436\n",
      "16360874.554855995\n",
      "16360624.115839405\n",
      "16360305.348061278\n",
      "16360002.343249673\n",
      "16359713.437839394\n",
      "16359427.00361175\n",
      "16359068.12766912\n",
      "16358744.086878307\n",
      "16358432.152679514\n",
      "16358043.439361759\n",
      "16357732.077850986\n",
      "16357340.678663518\n",
      "16357025.845812142\n",
      "16356596.989307\n",
      "16356230.69988333\n",
      "16355837.920127504\n"
     ]
    }
   ],
   "source": [
    "input_size = len(df_features.iloc[0])\n",
    "output_size = len(df_label.columns)\n",
    "hidden_size = int(np.ceil((input_size+output_size)/2))\n",
    "model = NeuralNet(input_size, hidden_size, output_size).to(device)\n",
    "# Loss and optimizer\n",
    "criterion = nn.L1Loss()\n",
    "optimizer = torch.optim.Adam(model.parameters(), lr=learning_rate)  \n",
    "# Train the model\n",
    "total_step = len(train_loader)\n",
    "print(total_step)\n",
    "loss = torch.tensor(0.0)\n",
    "for epoch in range(num_epochs):\n",
    "    curr_epoch_loss = 0.0\n",
    "    for i, (feature, labels) in enumerate(train_loader):\n",
    "        optimizer.zero_grad()\n",
    "        # Move tensors to the configured device\n",
    "        feature = torch.tensor(feature,  dtype = torch.float64).to(device)\n",
    "        label = torch.tensor(labels,  dtype = torch.float64).to(device)\n",
    "\n",
    "#         # Forward pass/\n",
    "        outputs = model(feature)\n",
    "#         print(outputs, label)\n",
    "        loss = criterion(outputs, label)\n",
    "        curr_epoch_loss+=loss.data.item()\n",
    "        loss.backward()\n",
    "        optimizer.step()\n",
    "#         print(loss.data.item())\n",
    "    print(curr_epoch_loss)\n",
    "#         \n",
    "        \n",
    "#         # Backward and optimize\n",
    "#         \n",
    "#         loss.backward()\n",
    "#         optimizer.step()\n",
    "        \n",
    "        #if (i+1) % 100 == 0:\n",
    "#         print ('Epoch [{}/{}], Step [{}/{}], Loss: {:.1f}' \n",
    "#                    .format(epoch+1, num_epochs, i+1, total_step, loss.item()))\n",
    "\n",
    "# Test the model"
   ]
  },
  {
   "cell_type": "code",
   "execution_count": 162,
   "metadata": {},
   "outputs": [],
   "source": [
    "# for i, (feature, labels) in enumerate(train_loader):  \n",
    "#     if(i >10):\n",
    "#         break\n",
    "#     print((type(feature)))\n",
    "#     print(labels)"
   ]
  },
  {
   "cell_type": "code",
   "execution_count": null,
   "metadata": {},
   "outputs": [],
   "source": []
  }
 ],
 "metadata": {
  "kernelspec": {
   "display_name": "Python 3",
   "language": "python",
   "name": "python3"
  },
  "language_info": {
   "codemirror_mode": {
    "name": "ipython",
    "version": 3
   },
   "file_extension": ".py",
   "mimetype": "text/x-python",
   "name": "python",
   "nbconvert_exporter": "python",
   "pygments_lexer": "ipython3",
   "version": "3.6.5"
  }
 },
 "nbformat": 4,
 "nbformat_minor": 2
}
