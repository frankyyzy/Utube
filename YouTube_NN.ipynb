{
 "cells": [
  {
   "cell_type": "code",
   "execution_count": 1,
   "metadata": {},
   "outputs": [
    {
     "ename": "ModuleNotFoundError",
     "evalue": "No module named 'torch'",
     "output_type": "error",
     "traceback": [
      "\u001b[0;31m---------------------------------------------------------------------------\u001b[0m",
      "\u001b[0;31mModuleNotFoundError\u001b[0m                       Traceback (most recent call last)",
      "\u001b[0;32m<ipython-input-1-34ce98939e0e>\u001b[0m in \u001b[0;36m<module>\u001b[0;34m\u001b[0m\n\u001b[0;32m----> 1\u001b[0;31m \u001b[0;32mimport\u001b[0m \u001b[0mtorch\u001b[0m\u001b[0;34m\u001b[0m\u001b[0;34m\u001b[0m\u001b[0m\n\u001b[0m\u001b[1;32m      2\u001b[0m \u001b[0;32mimport\u001b[0m \u001b[0mtorch\u001b[0m\u001b[0;34m.\u001b[0m\u001b[0mnn\u001b[0m \u001b[0;32mas\u001b[0m \u001b[0mnn\u001b[0m\u001b[0;34m\u001b[0m\u001b[0;34m\u001b[0m\u001b[0m\n\u001b[1;32m      3\u001b[0m \u001b[0;32mimport\u001b[0m \u001b[0mtorch\u001b[0m\u001b[0;34m.\u001b[0m\u001b[0mnn\u001b[0m\u001b[0;34m.\u001b[0m\u001b[0mfunctional\u001b[0m \u001b[0;32mas\u001b[0m \u001b[0mF\u001b[0m\u001b[0;34m\u001b[0m\u001b[0;34m\u001b[0m\u001b[0m\n\u001b[1;32m      4\u001b[0m \u001b[0;32mimport\u001b[0m \u001b[0mtorch\u001b[0m\u001b[0;34m.\u001b[0m\u001b[0mutils\u001b[0m\u001b[0;34m.\u001b[0m\u001b[0mdata\u001b[0m \u001b[0;32mas\u001b[0m \u001b[0mdt\u001b[0m\u001b[0;34m\u001b[0m\u001b[0;34m\u001b[0m\u001b[0m\n\u001b[1;32m      5\u001b[0m \u001b[0;32mimport\u001b[0m \u001b[0mpandas\u001b[0m \u001b[0;32mas\u001b[0m \u001b[0mpd\u001b[0m\u001b[0;34m\u001b[0m\u001b[0;34m\u001b[0m\u001b[0m\n",
      "\u001b[0;31mModuleNotFoundError\u001b[0m: No module named 'torch'"
     ]
    }
   ],
   "source": [
    "import torch\n",
    "import torch.nn as nn\n",
    "import torch.nn.functional as F\n",
    "import torch.utils.data as dt\n",
    "import pandas as pd \n",
    "import numpy as np\n",
    "import torch.utils.data as data_utils\n",
    "import matplotlib.pyplot as plt\n"
   ]
  },
  {
   "cell_type": "markdown",
   "metadata": {},
   "source": [
    "# Input and Hyperparameters #"
   ]
  },
  {
   "cell_type": "code",
   "execution_count": 3,
   "metadata": {},
   "outputs": [],
   "source": [
    "data_path = \"./US_length.csv\"\n",
    "learning_rate = 0.02\n",
    "device = torch.device('cuda' if torch.cuda.is_available() else 'cpu')\n",
    "split = 0.8\n",
    "batch_size = 50\n",
    "num_epochs = 100\n",
    "subset_val = None"
   ]
  },
  {
   "cell_type": "markdown",
   "metadata": {},
   "source": [
    "# Data Cleaning #"
   ]
  },
  {
   "cell_type": "code",
   "execution_count": 4,
   "metadata": {},
   "outputs": [],
   "source": [
    "df_main = pd.read_csv(data_path, sep = ',')\n",
    "#subset data for testing ,use the first 10000\n",
    "df = df_main[:subset_val] if (subset_val != None) else df_main\n",
    "secs = df['sec'].values\n",
    "mins = df['min'].values\n",
    "hours = df['hour'].values\n",
    "total_time = [s+60*m+3600*h for s,m,h in zip(secs, mins, hours)]\n",
    "df['total_time'] = total_time\n",
    "df_features=df[['title', 'total_time']]"
   ]
  },
  {
   "cell_type": "code",
   "execution_count": 5,
   "metadata": {},
   "outputs": [
    {
     "name": "stderr",
     "output_type": "stream",
     "text": [
      "C:\\Users\\Charles\\Anaconda3\\lib\\site-packages\\ipykernel_launcher.py:2: SettingWithCopyWarning: \n",
      "A value is trying to be set on a copy of a slice from a DataFrame.\n",
      "Try using .loc[row_indexer,col_indexer] = value instead\n",
      "\n",
      "See the caveats in the documentation: http://pandas.pydata.org/pandas-docs/stable/indexing.html#indexing-view-versus-copy\n",
      "  \n"
     ]
    }
   ],
   "source": [
    "#df_features['title_upper_count'] = df_features['title'].str.findall(r'[A-Z]').str.len()\n",
    "df_features['tag_count'] = [len(s.split('|')) for s in df['tags'].values]\n",
    "#df_features['category_id'] = df_main['category_id']\n",
    "df_label = pd.DataFrame()\n",
    "df_label['views'] = df['views']\n",
    "df_features = df_features.drop(columns = 'title')"
   ]
  },
  {
   "cell_type": "code",
   "execution_count": 6,
   "metadata": {},
   "outputs": [
    {
     "data": {
      "text/html": [
       "<div>\n",
       "<style scoped>\n",
       "    .dataframe tbody tr th:only-of-type {\n",
       "        vertical-align: middle;\n",
       "    }\n",
       "\n",
       "    .dataframe tbody tr th {\n",
       "        vertical-align: top;\n",
       "    }\n",
       "\n",
       "    .dataframe thead th {\n",
       "        text-align: right;\n",
       "    }\n",
       "</style>\n",
       "<table border=\"1\" class=\"dataframe\">\n",
       "  <thead>\n",
       "    <tr style=\"text-align: right;\">\n",
       "      <th></th>\n",
       "      <th>total_time</th>\n",
       "      <th>tag_count</th>\n",
       "    </tr>\n",
       "  </thead>\n",
       "  <tbody>\n",
       "    <tr>\n",
       "      <th>count</th>\n",
       "      <td>30179.000000</td>\n",
       "      <td>30179.000000</td>\n",
       "    </tr>\n",
       "    <tr>\n",
       "      <th>mean</th>\n",
       "      <td>504.004308</td>\n",
       "      <td>19.453196</td>\n",
       "    </tr>\n",
       "    <tr>\n",
       "      <th>std</th>\n",
       "      <td>1521.821733</td>\n",
       "      <td>12.122659</td>\n",
       "    </tr>\n",
       "    <tr>\n",
       "      <th>min</th>\n",
       "      <td>0.000000</td>\n",
       "      <td>1.000000</td>\n",
       "    </tr>\n",
       "    <tr>\n",
       "      <th>25%</th>\n",
       "      <td>145.000000</td>\n",
       "      <td>9.000000</td>\n",
       "    </tr>\n",
       "    <tr>\n",
       "      <th>50%</th>\n",
       "      <td>260.000000</td>\n",
       "      <td>19.000000</td>\n",
       "    </tr>\n",
       "    <tr>\n",
       "      <th>75%</th>\n",
       "      <td>533.000000</td>\n",
       "      <td>28.000000</td>\n",
       "    </tr>\n",
       "    <tr>\n",
       "      <th>max</th>\n",
       "      <td>42909.000000</td>\n",
       "      <td>69.000000</td>\n",
       "    </tr>\n",
       "  </tbody>\n",
       "</table>\n",
       "</div>"
      ],
      "text/plain": [
       "         total_time     tag_count\n",
       "count  30179.000000  30179.000000\n",
       "mean     504.004308     19.453196\n",
       "std     1521.821733     12.122659\n",
       "min        0.000000      1.000000\n",
       "25%      145.000000      9.000000\n",
       "50%      260.000000     19.000000\n",
       "75%      533.000000     28.000000\n",
       "max    42909.000000     69.000000"
      ]
     },
     "execution_count": 6,
     "metadata": {},
     "output_type": "execute_result"
    }
   ],
   "source": [
    "df_features.head()\n",
    "df_features.describe()"
   ]
  },
  {
   "cell_type": "code",
   "execution_count": 7,
   "metadata": {},
   "outputs": [
    {
     "data": {
      "text/html": [
       "<div>\n",
       "<style scoped>\n",
       "    .dataframe tbody tr th:only-of-type {\n",
       "        vertical-align: middle;\n",
       "    }\n",
       "\n",
       "    .dataframe tbody tr th {\n",
       "        vertical-align: top;\n",
       "    }\n",
       "\n",
       "    .dataframe thead th {\n",
       "        text-align: right;\n",
       "    }\n",
       "</style>\n",
       "<table border=\"1\" class=\"dataframe\">\n",
       "  <thead>\n",
       "    <tr style=\"text-align: right;\">\n",
       "      <th></th>\n",
       "      <th>views</th>\n",
       "    </tr>\n",
       "  </thead>\n",
       "  <tbody>\n",
       "    <tr>\n",
       "      <th>count</th>\n",
       "      <td>3.017900e+04</td>\n",
       "    </tr>\n",
       "    <tr>\n",
       "      <th>mean</th>\n",
       "      <td>1.534091e+06</td>\n",
       "    </tr>\n",
       "    <tr>\n",
       "      <th>std</th>\n",
       "      <td>4.504928e+06</td>\n",
       "    </tr>\n",
       "    <tr>\n",
       "      <th>min</th>\n",
       "      <td>5.490000e+02</td>\n",
       "    </tr>\n",
       "    <tr>\n",
       "      <th>25%</th>\n",
       "      <td>1.663705e+05</td>\n",
       "    </tr>\n",
       "    <tr>\n",
       "      <th>50%</th>\n",
       "      <td>4.712660e+05</td>\n",
       "    </tr>\n",
       "    <tr>\n",
       "      <th>75%</th>\n",
       "      <td>1.301744e+06</td>\n",
       "    </tr>\n",
       "    <tr>\n",
       "      <th>max</th>\n",
       "      <td>1.493761e+08</td>\n",
       "    </tr>\n",
       "  </tbody>\n",
       "</table>\n",
       "</div>"
      ],
      "text/plain": [
       "              views\n",
       "count  3.017900e+04\n",
       "mean   1.534091e+06\n",
       "std    4.504928e+06\n",
       "min    5.490000e+02\n",
       "25%    1.663705e+05\n",
       "50%    4.712660e+05\n",
       "75%    1.301744e+06\n",
       "max    1.493761e+08"
      ]
     },
     "execution_count": 7,
     "metadata": {},
     "output_type": "execute_result"
    }
   ],
   "source": [
    "df_label.head()\n",
    "df_label.describe()\n"
   ]
  },
  {
   "cell_type": "markdown",
   "metadata": {},
   "source": [
    "# Setup Dataloader #"
   ]
  },
  {
   "cell_type": "code",
   "execution_count": 8,
   "metadata": {},
   "outputs": [],
   "source": [
    "tv_split = int(len(df_features)*split)\n",
    "train_set = df_features[:tv_split]\n",
    "train_label = df_label[:tv_split]\n",
    "validation_set = df_features[tv_split:]\n",
    "validation_label = df_label[tv_split:]\n"
   ]
  },
  {
   "cell_type": "code",
   "execution_count": 9,
   "metadata": {},
   "outputs": [],
   "source": [
    "class Dataset(dt.Dataset):\n",
    "    def __init__(self, feature, labels):\n",
    "        self.labels = labels\n",
    "        self.feature = feature\n",
    "    def __len__(self):\n",
    "        return(len(self.feature))\n",
    "    def __getitem__(self, idx):\n",
    "        cur_feature = self.feature.iloc[idx]\n",
    "        cur_feature = np.array(cur_feature)\n",
    "        cur_label = self.labels.iloc[idx]\n",
    "        cur_label = np.array(cur_label)\n",
    "        sample = (cur_feature, cur_label)\n",
    "        return sample"
   ]
  },
  {
   "cell_type": "code",
   "execution_count": 10,
   "metadata": {},
   "outputs": [],
   "source": [
    "train = Dataset(train_set, train_label)\n",
    "train_loader = data_utils.DataLoader(train, batch_size, shuffle = True)\n",
    "test = Dataset(validation_set, validation_label)\n",
    "test_loader = data_utils.DataLoader(test, batch_size, shuffle = True)"
   ]
  },
  {
   "cell_type": "markdown",
   "metadata": {},
   "source": [
    "# Define Neural Network"
   ]
  },
  {
   "cell_type": "code",
   "execution_count": 11,
   "metadata": {},
   "outputs": [],
   "source": [
    "class NeuralNet(nn.Module):\n",
    "    def __init__(self, input_size, hidden_size, num_classes):\n",
    "        super().__init__()\n",
    "        self.fc1 = nn.Linear(input_size, hidden_size).double() \n",
    "        self.relu = nn.ReLU()\n",
    "        self.fc2 = nn.Linear(hidden_size, num_classes).double()\n",
    "        \n",
    "    def forward(self, x):\n",
    "        out = self.fc1(x)\n",
    "        out = self.relu(out)\n",
    "        out = self.fc2(out)\n",
    "        out = self.relu(out)\n",
    "        return out"
   ]
  },
  {
   "cell_type": "markdown",
   "metadata": {},
   "source": [
    "# Main #"
   ]
  },
  {
   "cell_type": "code",
   "execution_count": 12,
   "metadata": {
    "scrolled": true
   },
   "outputs": [
    {
     "name": "stderr",
     "output_type": "stream",
     "text": [
      "C:\\Users\\Charles\\Anaconda3\\lib\\site-packages\\ipykernel_launcher.py:17: UserWarning: To copy construct from a tensor, it is recommended to use sourceTensor.clone().detach() or sourceTensor.clone().detach().requires_grad_(True), rather than torch.tensor(sourceTensor).\n",
      "C:\\Users\\Charles\\Anaconda3\\lib\\site-packages\\ipykernel_launcher.py:18: UserWarning: To copy construct from a tensor, it is recommended to use sourceTensor.clone().detach() or sourceTensor.clone().detach().requires_grad_(True), rather than torch.tensor(sourceTensor).\n"
     ]
    },
    {
     "name": "stdout",
     "output_type": "stream",
     "text": [
      "622892887.6699032\n",
      "Epoch [1/100], Avg Loss: 20639.9\n",
      "609992070.5846264\n",
      "Epoch [2/100], Avg Loss: 20212.5\n",
      "607099333.5325315\n",
      "Epoch [3/100], Avg Loss: 20116.6\n",
      "605277774.3028749\n",
      "Epoch [4/100], Avg Loss: 20056.3\n",
      "603352900.4056634\n",
      "Epoch [5/100], Avg Loss: 19992.5\n",
      "601311969.473702\n",
      "Epoch [6/100], Avg Loss: 19924.8\n",
      "599032859.3139006\n",
      "Epoch [7/100], Avg Loss: 19849.3\n",
      "596490075.1928757\n",
      "Epoch [8/100], Avg Loss: 19765.1\n",
      "593141547.0754435\n",
      "Epoch [9/100], Avg Loss: 19654.1\n",
      "589542898.8755862\n",
      "Epoch [10/100], Avg Loss: 19534.9\n",
      "585531577.7162497\n",
      "Epoch [11/100], Avg Loss: 19402.0\n",
      "581141390.5116351\n",
      "Epoch [12/100], Avg Loss: 19256.5\n",
      "577365588.2273768\n",
      "Epoch [13/100], Avg Loss: 19131.4\n",
      "574087992.3456806\n",
      "Epoch [14/100], Avg Loss: 19022.8\n",
      "571693130.2109158\n",
      "Epoch [15/100], Avg Loss: 18943.4\n",
      "569876617.7339683\n",
      "Epoch [16/100], Avg Loss: 18883.2\n",
      "568811625.8091606\n",
      "Epoch [17/100], Avg Loss: 18847.9\n",
      "568287469.9967456\n",
      "Epoch [18/100], Avg Loss: 18830.6\n",
      "568210002.2241621\n",
      "Epoch [19/100], Avg Loss: 18828.0\n",
      "568436212.1872141\n",
      "Epoch [20/100], Avg Loss: 18835.5\n",
      "568029016.3177747\n",
      "Epoch [21/100], Avg Loss: 18822.0\n",
      "567964242.6075643\n",
      "Epoch [22/100], Avg Loss: 18819.8\n",
      "567882981.9852344\n",
      "Epoch [23/100], Avg Loss: 18817.2\n",
      "567896475.6027136\n",
      "Epoch [24/100], Avg Loss: 18817.6\n",
      "567893021.6567612\n",
      "Epoch [25/100], Avg Loss: 18817.5\n",
      "567842260.7341928\n",
      "Epoch [26/100], Avg Loss: 18815.8\n",
      "567652528.070584\n",
      "Epoch [27/100], Avg Loss: 18809.5\n",
      "567607887.6360407\n",
      "Epoch [28/100], Avg Loss: 18808.0\n",
      "567665559.7874475\n",
      "Epoch [29/100], Avg Loss: 18810.0\n",
      "567494571.8485892\n",
      "Epoch [30/100], Avg Loss: 18804.3\n",
      "567497119.093716\n",
      "Epoch [31/100], Avg Loss: 18804.4\n",
      "567573089.360313\n",
      "Epoch [32/100], Avg Loss: 18806.9\n",
      "567436415.2260603\n",
      "Epoch [33/100], Avg Loss: 18802.4\n",
      "567374218.2454369\n",
      "Epoch [34/100], Avg Loss: 18800.3\n",
      "567288107.046538\n",
      "Epoch [35/100], Avg Loss: 18797.4\n",
      "567184921.6241615\n",
      "Epoch [36/100], Avg Loss: 18794.0\n",
      "567189318.0721592\n",
      "Epoch [37/100], Avg Loss: 18794.2\n",
      "567147087.3175521\n",
      "Epoch [38/100], Avg Loss: 18792.8\n",
      "567246615.6679149\n",
      "Epoch [39/100], Avg Loss: 18796.1\n",
      "567180620.635995\n",
      "Epoch [40/100], Avg Loss: 18793.9\n",
      "566991385.1006994\n",
      "Epoch [41/100], Avg Loss: 18787.6\n",
      "567028443.236134\n",
      "Epoch [42/100], Avg Loss: 18788.8\n",
      "566915901.1205186\n",
      "Epoch [43/100], Avg Loss: 18785.1\n",
      "566901822.0646865\n",
      "Epoch [44/100], Avg Loss: 18784.6\n",
      "566801617.9308852\n",
      "Epoch [45/100], Avg Loss: 18781.3\n",
      "566848369.1445769\n",
      "Epoch [46/100], Avg Loss: 18782.9\n",
      "566883705.7993768\n",
      "Epoch [47/100], Avg Loss: 18784.0\n",
      "566652131.059526\n",
      "Epoch [48/100], Avg Loss: 18776.4\n",
      "566648215.4425446\n",
      "Epoch [49/100], Avg Loss: 18776.2\n",
      "566582669.4555442\n",
      "Epoch [50/100], Avg Loss: 18774.1\n",
      "566557521.2354013\n",
      "Epoch [51/100], Avg Loss: 18773.2\n",
      "566469860.6522027\n",
      "Epoch [52/100], Avg Loss: 18770.3\n",
      "566589684.4693977\n",
      "Epoch [53/100], Avg Loss: 18774.3\n",
      "566463545.3348479\n",
      "Epoch [54/100], Avg Loss: 18770.1\n",
      "566350709.9601701\n",
      "Epoch [55/100], Avg Loss: 18766.4\n",
      "566321038.9504305\n",
      "Epoch [56/100], Avg Loss: 18765.4\n",
      "566227941.400537\n",
      "Epoch [57/100], Avg Loss: 18762.3\n",
      "566211263.6041279\n",
      "Epoch [58/100], Avg Loss: 18761.8\n",
      "566143353.920398\n",
      "Epoch [59/100], Avg Loss: 18759.5\n",
      "566234759.5945992\n",
      "Epoch [60/100], Avg Loss: 18762.5\n",
      "566276889.6298718\n",
      "Epoch [61/100], Avg Loss: 18763.9\n",
      "566039023.9214729\n",
      "Epoch [62/100], Avg Loss: 18756.1\n",
      "565975725.4461339\n",
      "Epoch [63/100], Avg Loss: 18754.0\n",
      "565942279.1707721\n",
      "Epoch [64/100], Avg Loss: 18752.9\n",
      "565893981.3279665\n",
      "Epoch [65/100], Avg Loss: 18751.3\n",
      "565892333.6713233\n",
      "Epoch [66/100], Avg Loss: 18751.2\n",
      "565919447.6115516\n",
      "Epoch [67/100], Avg Loss: 18752.1\n",
      "565799575.5491188\n",
      "Epoch [68/100], Avg Loss: 18748.1\n",
      "566030727.1249077\n",
      "Epoch [69/100], Avg Loss: 18755.8\n",
      "565734453.8805119\n",
      "Epoch [70/100], Avg Loss: 18746.0\n",
      "565828301.7608767\n",
      "Epoch [71/100], Avg Loss: 18749.1\n",
      "565530101.2756509\n",
      "Epoch [72/100], Avg Loss: 18739.2\n",
      "565649684.4612895\n",
      "Epoch [73/100], Avg Loss: 18743.2\n",
      "565461084.0366346\n",
      "Epoch [74/100], Avg Loss: 18736.9\n",
      "565492543.9509077\n",
      "Epoch [75/100], Avg Loss: 18737.9\n",
      "565457589.5076743\n",
      "Epoch [76/100], Avg Loss: 18736.8\n",
      "565274792.6808776\n",
      "Epoch [77/100], Avg Loss: 18730.7\n",
      "565259492.9551439\n",
      "Epoch [78/100], Avg Loss: 18730.2\n",
      "565334838.6960524\n",
      "Epoch [79/100], Avg Loss: 18732.7\n",
      "565178150.2170881\n",
      "Epoch [80/100], Avg Loss: 18727.5\n",
      "565165824.6816437\n",
      "Epoch [81/100], Avg Loss: 18727.1\n",
      "565014017.1858586\n",
      "Epoch [82/100], Avg Loss: 18722.1\n",
      "565093016.631441\n",
      "Epoch [83/100], Avg Loss: 18724.7\n",
      "565019710.6296455\n",
      "Epoch [84/100], Avg Loss: 18722.3\n",
      "564868031.4574381\n",
      "Epoch [85/100], Avg Loss: 18717.3\n",
      "564856697.2889166\n",
      "Epoch [86/100], Avg Loss: 18716.9\n",
      "564914780.439467\n",
      "Epoch [87/100], Avg Loss: 18718.8\n",
      "564744109.8399979\n",
      "Epoch [88/100], Avg Loss: 18713.1\n",
      "564741335.0644687\n",
      "Epoch [89/100], Avg Loss: 18713.1\n",
      "564937308.9724277\n",
      "Epoch [90/100], Avg Loss: 18719.6\n",
      "564653635.4735922\n",
      "Epoch [91/100], Avg Loss: 18710.2\n",
      "564560898.5376302\n",
      "Epoch [92/100], Avg Loss: 18707.1\n",
      "564523504.9779934\n",
      "Epoch [93/100], Avg Loss: 18705.8\n",
      "564606435.5290722\n",
      "Epoch [94/100], Avg Loss: 18708.6\n",
      "564521910.147284\n",
      "Epoch [95/100], Avg Loss: 18705.8\n",
      "564499864.4942496\n",
      "Epoch [96/100], Avg Loss: 18705.1\n",
      "564400587.7845201\n",
      "Epoch [97/100], Avg Loss: 18701.8\n",
      "564410500.9306815\n",
      "Epoch [98/100], Avg Loss: 18702.1\n",
      "564395560.3218\n",
      "Epoch [99/100], Avg Loss: 18701.6\n",
      "564234288.6548014\n",
      "Epoch [100/100], Avg Loss: 18696.3\n"
     ]
    }
   ],
   "source": [
    "input_size = len(df_features.iloc[0])\n",
    "output_size = len(df_label.columns)\n",
    "hidden_size = int(np.ceil((input_size+output_size)/2))\n",
    "model = NeuralNet(input_size, hidden_size, output_size).to(device)\n",
    "# Loss and optimizer\n",
    "criterion = nn.L1Loss()\n",
    "optimizer = torch.optim.Adam(model.parameters(), lr=learning_rate)  \n",
    "# Train the model\n",
    "total_step = len(train_loader)\n",
    "loss = torch.tensor(0.0)\n",
    "loss_list = []\n",
    "for epoch in range(num_epochs):\n",
    "    curr_epoch_loss = 0.0\n",
    "    for i, (feature, labels) in enumerate(train_loader):\n",
    "        optimizer.zero_grad()\n",
    "        # Move tensors to the configured device\n",
    "        feature = torch.tensor(feature,  dtype = torch.float64).to(device)\n",
    "        label = torch.tensor(labels,  dtype = torch.float64).to(device)\n",
    "\n",
    "        # Forward pass/\n",
    "        outputs = model(feature)\n",
    "        loss = criterion(outputs, label)\n",
    "        curr_epoch_loss+=loss.data.item()\n",
    "        loss.backward()\n",
    "        optimizer.step()\n",
    "    print(curr_epoch_loss)\n",
    "    print ('Epoch [{}/{}], Avg Loss: {:.1f}'.format(epoch+1, num_epochs, curr_epoch_loss/len(df_label)))\n",
    "    loss_list.append(curr_epoch_loss)\n",
    "\n",
    "\n"
   ]
  },
  {
   "cell_type": "markdown",
   "metadata": {},
   "source": [
    "# Testing #"
   ]
  },
  {
   "cell_type": "markdown",
   "metadata": {},
   "source": [
    "# Visualization #"
   ]
  },
  {
   "cell_type": "code",
   "execution_count": 21,
   "metadata": {},
   "outputs": [
    {
     "data": {
      "text/plain": [
       "<matplotlib.axes._subplots.AxesSubplot at 0x1d0821089b0>"
      ]
     },
     "execution_count": 21,
     "metadata": {},
     "output_type": "execute_result"
    },
    {
     "data": {
      "image/png": "[encoded data removed]",
      "text/plain": [
       "<Figure size 432x288 with 1 Axes>"
      ]
     },
     "metadata": {
      "needs_background": "light"
     },
     "output_type": "display_data"
    }
   ],
   "source": [
    "loss_avg = [i/len(df_label) for i in loss_list]\n",
    "df_loss = pd.DataFrame()\n",
    "df_loss['epoch'] = range(1,num_epochs+1)\n",
    "df_loss['avg loss'] = loss_avg\n",
    "df_loss\n",
    "df_loss.plot(kind = 'line', x='epoch', y='avg loss', color = 'red')"
   ]
  },
  {
   "cell_type": "code",
   "execution_count": null,
   "metadata": {},
   "outputs": [],
   "source": []
  },
  {
   "cell_type": "code",
   "execution_count": null,
   "metadata": {},
   "outputs": [],
   "source": []
  }
 ],
 "metadata": {
  "kernelspec": {
   "display_name": "Python 3",
   "language": "python",
   "name": "python3"
  },
  "language_info": {
   "codemirror_mode": {
    "name": "ipython",
    "version": 3
   },
   "file_extension": ".py",
   "mimetype": "text/x-python",
   "name": "python",
   "nbconvert_exporter": "python",
   "pygments_lexer": "ipython3",
   "version": "3.7.5"
  }
 },
 "nbformat": 4,
 "nbformat_minor": 2
}
