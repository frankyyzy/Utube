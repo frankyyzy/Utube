{
 "cells": [
  {
   "cell_type": "code",
   "execution_count": 2,
   "metadata": {},
   "outputs": [],
   "source": [
    "import pandas as pd\n",
    "import re\n",
    "# import matplotlib.pyplot as pPlot\n",
    "from wordcloud import WordCloud, STOPWORDS\n",
    "import numpy as py\n",
    "from PIL import Image"
   ]
  },
  {
   "cell_type": "code",
   "execution_count": 3,
   "metadata": {
    "collapsed": true
   },
   "outputs": [
    {
     "ename": "FileNotFoundError",
     "evalue": "[Errno 2] No such file or directory: 'square.png'",
     "output_type": "error",
     "traceback": [
      "\u001b[1;31m---------------------------------------------------------------------------\u001b[0m",
      "\u001b[1;31mFileNotFoundError\u001b[0m                         Traceback (most recent call last)",
      "\u001b[1;32m<ipython-input-3-5465fc63662a>\u001b[0m in \u001b[0;36m<module>\u001b[1;34m\u001b[0m\n\u001b[0;32m     29\u001b[0m \u001b[1;33m\u001b[0m\u001b[0m\n\u001b[0;32m     30\u001b[0m \u001b[0mtitleFile\u001b[0m \u001b[1;33m=\u001b[0m \u001b[0mtitleFile\u001b[0m\u001b[1;33m.\u001b[0m\u001b[0mlower\u001b[0m\u001b[1;33m(\u001b[0m\u001b[1;33m)\u001b[0m\u001b[1;33m\u001b[0m\u001b[0m\n\u001b[1;32m---> 31\u001b[1;33m \u001b[0mcreate_word_cloud\u001b[0m\u001b[1;33m(\u001b[0m\u001b[0mtitleFile\u001b[0m\u001b[1;33m)\u001b[0m\u001b[1;33m\u001b[0m\u001b[0m\n\u001b[0m",
      "\u001b[1;32m<ipython-input-3-5465fc63662a>\u001b[0m in \u001b[0;36mcreate_word_cloud\u001b[1;34m(string)\u001b[0m\n\u001b[0;32m     21\u001b[0m \u001b[1;33m\u001b[0m\u001b[0m\n\u001b[0;32m     22\u001b[0m \u001b[1;32mdef\u001b[0m \u001b[0mcreate_word_cloud\u001b[0m\u001b[1;33m(\u001b[0m\u001b[0mstring\u001b[0m\u001b[1;33m)\u001b[0m\u001b[1;33m:\u001b[0m\u001b[1;33m\u001b[0m\u001b[0m\n\u001b[1;32m---> 23\u001b[1;33m     \u001b[0mmask\u001b[0m \u001b[1;33m=\u001b[0m \u001b[0mpy\u001b[0m\u001b[1;33m.\u001b[0m\u001b[0marray\u001b[0m\u001b[1;33m(\u001b[0m\u001b[0mImage\u001b[0m\u001b[1;33m.\u001b[0m\u001b[0mopen\u001b[0m\u001b[1;33m(\u001b[0m\u001b[1;34m\"square.png\"\u001b[0m\u001b[1;33m)\u001b[0m\u001b[1;33m)\u001b[0m\u001b[1;33m\u001b[0m\u001b[0m\n\u001b[0m\u001b[0;32m     24\u001b[0m     cloud = WordCloud(background_color=\"white\", max_words=500, mask=mask,\n\u001b[0;32m     25\u001b[0m                       stopwords=set(STOPWORDS), collocations=True)\n",
      "\u001b[1;32m~\\Anaconda3\\lib\\site-packages\\PIL\\Image.py\u001b[0m in \u001b[0;36mopen\u001b[1;34m(fp, mode)\u001b[0m\n\u001b[0;32m   2578\u001b[0m \u001b[1;33m\u001b[0m\u001b[0m\n\u001b[0;32m   2579\u001b[0m     \u001b[1;32mif\u001b[0m \u001b[0mfilename\u001b[0m\u001b[1;33m:\u001b[0m\u001b[1;33m\u001b[0m\u001b[0m\n\u001b[1;32m-> 2580\u001b[1;33m         \u001b[0mfp\u001b[0m \u001b[1;33m=\u001b[0m \u001b[0mbuiltins\u001b[0m\u001b[1;33m.\u001b[0m\u001b[0mopen\u001b[0m\u001b[1;33m(\u001b[0m\u001b[0mfilename\u001b[0m\u001b[1;33m,\u001b[0m \u001b[1;34m\"rb\"\u001b[0m\u001b[1;33m)\u001b[0m\u001b[1;33m\u001b[0m\u001b[0m\n\u001b[0m\u001b[0;32m   2581\u001b[0m         \u001b[0mexclusive_fp\u001b[0m \u001b[1;33m=\u001b[0m \u001b[1;32mTrue\u001b[0m\u001b[1;33m\u001b[0m\u001b[0m\n\u001b[0;32m   2582\u001b[0m \u001b[1;33m\u001b[0m\u001b[0m\n",
      "\u001b[1;31mFileNotFoundError\u001b[0m: [Errno 2] No such file or directory: 'square.png'"
     ]
    }
   ],
   "source": [
    "columns = ['video_id', 'trending_date', 'title', 'views', 'likes', 'dislikes', 'comment_count']\n",
    "df = pd.read_csv('repeating_deleted_US_Videos.csv', usecols=columns)\n",
    "\n",
    "titleLst = df['title'].tolist()\n",
    "\n",
    "\n",
    "for i in range(len(titleLst)):\n",
    "    new = re.sub(r\"’\", '', titleLst[i])\n",
    "    titleLst[i] = re.sub(r'[^a-zA-Z_]', ' ', new)\n",
    "\n",
    "with open('titles_non_repeating.txt', 'w') as f:\n",
    "    for i in range(len(titleLst)):\n",
    "        newLst = titleLst[i].split(\" \")\n",
    "        length = len(newLst)\n",
    "        for y in range(length):\n",
    "            if not (newLst[y] == \" \") and not newLst[y] == \"\" and not len(newLst[y]) == 1:\n",
    "                f.write(str(newLst[y] + ' '))\n",
    "\n",
    "titleFile = open(\"titles_non_repeating.txt\", \"r\").read()\n",
    "\n",
    "\n",
    "def create_word_cloud(string):\n",
    "    mask = py.array(Image.open(\"square.png\"))\n",
    "    cloud = WordCloud(background_color=\"white\", max_words=500, mask=mask,\n",
    "                      stopwords=set(STOPWORDS), collocations=True)\n",
    "    cloud.generate(string)\n",
    "    cloud.to_file(\"wordCloud_square_collocation500_new.png\")\n",
    "\n",
    "\n",
    "titleFile = titleFile.lower()\n",
    "create_word_cloud(titleFile)"
   ]
  },
  {
   "cell_type": "code",
   "execution_count": null,
   "metadata": {},
   "outputs": [],
   "source": []
  }
 ],
 "metadata": {
  "kernelspec": {
   "display_name": "Python 3",
   "language": "python",
   "name": "python3"
  },
  "language_info": {
   "codemirror_mode": {
    "name": "ipython",
    "version": 3
   },
   "file_extension": ".py",
   "mimetype": "text/x-python",
   "name": "python",
   "nbconvert_exporter": "python",
   "pygments_lexer": "ipython3",
   "version": "3.6.5"
  }
 },
 "nbformat": 4,
 "nbformat_minor": 2
}
