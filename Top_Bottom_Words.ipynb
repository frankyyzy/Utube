{
 "cells": [
  {
   "cell_type": "code",
   "execution_count": null,
   "metadata": {},
   "outputs": [],
   "source": [
    "import nltk\n",
    "import pandas as pd\n",
    "import re\n",
    "import operator\n",
    "from nltk.corpus import stopwords\n",
    "from nltk.tokenize import word_tokenize\n",
    "\n"
   ]
  },
  {
   "cell_type": "code",
   "execution_count": null,
   "metadata": {},
   "outputs": [],
   "source": [
    "# nltk.downloader()\n",
    "columns = ['video_id', 'trending_date', 'title', 'views', 'likes', 'dislikes', 'comment_count']\n",
    "df = pd.read_csv('non_duplicate_file.csv', usecols=columns) #Set duplicate file name\n",
    "\n",
    "title_list = df['title'].tolist()\n",
    "title_dict = {}\n",
    "\n",
    "for i in range(len(title_list)):\n",
    "    stop_words = set(stopwords.words('english'))\n",
    "    original = word_tokenize(title_list[i])\n",
    "    filtered = []\n",
    "\n",
    "    for j in original:\n",
    "        lower = j.lower()\n",
    "        lower = re.sub(r\"’\", '', lower)\n",
    "        lower = re.sub(r'[^a-zA-Z_]', ' ', lower)\n",
    "        if lower not in stop_words and len(lower) > 1 and not lower.isspace() \\\n",
    "                and not (\" \" in lower):\n",
    "            filtered.append(lower)\n",
    "        for w in filtered:\n",
    "            if w not in title_dict:\n",
    "                title_dict[w] = 1\n",
    "            else:\n",
    "                title_dict[w] += 1\n",
    "\n",
    "\n",
    "sorted_dict = sorted(title_dict.items(), key=operator.itemgetter(1))\n",
    "\n",
    "count = len(sorted_dict)\n",
    "top_ten = sorted_dict[count-10: count+1]\n",
    "bottom_ten = sorted_dict[0: 10]\n",
    "top_list = [i[0] for i in top_ten]\n",
    "bottom_list = [i[0] for i in bottom_ten]\n",
    "print(top_list)\n",
    "print(bottom_list)\n",
    "\n",
    "#No need to top/bottom df\n"
   ]
  }
 ],
 "metadata": {
  "kernelspec": {
   "display_name": "Python 3",
   "language": "python",
   "name": "python3"
  },
  "language_info": {
   "codemirror_mode": {
    "name": "ipython",
    "version": 3
   },
   "file_extension": ".py",
   "mimetype": "text/x-python",
   "name": "python",
   "nbconvert_exporter": "python",
   "pygments_lexer": "ipython3",
   "version": "3.6.5"
  }
 },
 "nbformat": 4,
 "nbformat_minor": 2
}
