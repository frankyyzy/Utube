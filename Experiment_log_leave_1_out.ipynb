{
 "cells": [
  {
   "cell_type": "code",
   "execution_count": 12,
   "metadata": {},
   "outputs": [],
   "source": [
    "import numpy as np\n",
    "import matplotlib.pyplot as plt\n",
    "from PIL import Image"
   ]
  },
  {
   "cell_type": "markdown",
   "metadata": {},
   "source": [
    "## Experiment 1: ALL FEATURES\n",
    " - Use all 4 features to make the prediction\n",
    " - Hidden layer with 5,5 units\n",
    " - Average Training Loss = 0.0208\n",
    " - Average Validation Loss = 0.0155"
   ]
  },
  {
   "cell_type": "markdown",
   "metadata": {},
   "source": [
    "## Experiment 2: Leave out title length\n",
    " - Use all 3 features to make the prediction\n",
    " - Hidden layer with 5,5 units\n",
    " - Average Training Loss = 0.0211\n",
    " - Average Validation Loss = 0.0156"
   ]
  },
  {
   "cell_type": "markdown",
   "metadata": {},
   "source": [
    "## Experiment 3: Leave out title # upper case\n",
    " - Use all 3 features to make the prediction\n",
    " - Hidden layer with 5,5 units\n",
    " - Average Training Loss = 0.0213\n",
    " - Average Validation Loss = 0.0149"
   ]
  },
  {
   "cell_type": "markdown",
   "metadata": {},
   "source": [
    "## Experiment 4: Leave out ratio of upper case\n",
    " - Use all 3 features to make the prediction\n",
    " - Hidden layer with 5,5 units\n",
    " - Average Training Loss = 0.0215\n",
    " - Average Validation Loss = 0.0170"
   ]
  },
  {
   "cell_type": "markdown",
   "metadata": {},
   "source": [
    "## Experiment 5: Leave out total length of video\n",
    " - Use all 3 features to make the prediction\n",
    " - Hidden layer with 5 units\n",
    " - Average Training Loss = 0.0191\n",
    " - Average Validation Loss = 0.0151"
   ]
  },
  {
   "cell_type": "code",
   "execution_count": null,
   "metadata": {},
   "outputs": [],
   "source": [
    "img = Image.open(\"./NN_prediction/losses_NN_all_features.png\")\n",
    "plt.figure(figsize = (9,8))\n",
    "plt.axis('off')\n",
    "plt.imshow(img,)\n",
    "plt.plot()"
   ]
  }
 ],
 "metadata": {
  "kernelspec": {
   "display_name": "Python 3",
   "language": "python",
   "name": "python3"
  },
  "language_info": {
   "codemirror_mode": {
    "name": "ipython",
    "version": 3
   },
   "file_extension": ".py",
   "mimetype": "text/x-python",
   "name": "python",
   "nbconvert_exporter": "python",
   "pygments_lexer": "ipython3",
   "version": "3.7.4"
  }
 },
 "nbformat": 4,
 "nbformat_minor": 2
}
